{
 "cells": [
  {
   "cell_type": "code",
   "execution_count": 1,
   "metadata": {},
   "outputs": [
    {
     "name": "stdin",
     "output_type": "stream",
     "text": [
      "Which Puzzle Are You Solving:  3\n"
     ]
    },
    {
     "name": "stdout",
     "output_type": "stream",
     "text": [
      "No Such Puzzle\n"
     ]
    }
   ],
   "source": [
    "##both commented out cause I'm on jupyer notebook, should be good for pycharm\n",
    "##import Gal\n",
    "##import tower_stacking\n",
    "\n",
    "\n",
    "#asks for and returns the user input for what puzzle they want to solve\n",
    "def pick_algo():\n",
    "    algo = input(\"Which Puzzle Are You Solving: \")\n",
    "    return algo\n",
    "\n",
    "#asks for and returns the user input for what file path they want to read\n",
    "def file_name():\n",
    "    file = input(\"Name of File to Read: \")\n",
    "    return file\n",
    "\n",
    "#asks for and returns the user input for how long in seconds they want to run it for\n",
    "def run_time():\n",
    "    time = input(\"Time to Run: \")\n",
    "    return time\n",
    "\n",
    "\n",
    "#Ask the user for their puzzle number\n",
    "algoNum = pick_algo()\n",
    "\n",
    "\n",
    "#if statement to determine what puzzle was selected\n",
    "if algoNum == str(1):\n",
    "    #ask for the file path and run time for puzzle 1\n",
    "    filePath = file_name()\n",
    "    runTime = int(run_time())\n",
    "    \n",
    "    #run for the selected file path and run time, with preselected generations and iteration type\n",
    "    test_list = FileHelper.read_file(filePath)\n",
    "    test_gal = Gal(test_list, 20, runTime)\n",
    "    test_gal.iterator(\"Combo\")\n",
    "    \n",
    "elif algoNum == str(2):\n",
    "    #ask for the file path and run time for puzzle 2\n",
    "    filePath = file_name()\n",
    "    runTime = run_time()\n",
    "    \n",
    "    #Opens the file and runs the puzzle 2 on said file for said time.\n",
    "    f = open(filePath)\n",
    "    \n",
    "    ##commented out as I'm running in jupyter and not importing, should work for pycharm\n",
    "    ##t = tower_stacking.tower_stacker_genetics(f)\n",
    "    \n",
    "    t = tower_stacker_genetics(f)\n",
    "    t.run_for_n_time(runTime)\n",
    "    \n",
    "else:\n",
    "    #End the program if the input is neither 1 or 2\n",
    "    print(\"No Such Puzzle\")"
   ]
  }
 ],
 "metadata": {
  "kernelspec": {
   "display_name": "Python 3",
   "language": "python",
   "name": "python3"
  },
  "language_info": {
   "codemirror_mode": {
    "name": "ipython",
    "version": 3
   },
   "file_extension": ".py",
   "mimetype": "text/x-python",
   "name": "python",
   "nbconvert_exporter": "python",
   "pygments_lexer": "ipython3",
   "version": "3.8.5"
  }
 },
 "nbformat": 4,
 "nbformat_minor": 4
}
